{
 "cells": [
  {
   "cell_type": "code",
   "execution_count": 215,
   "id": "0dfda888",
   "metadata": {
    "scrolled": true
   },
   "outputs": [],
   "source": [
    "import pandas as pd\n",
    "from datetime import date\n",
    "from nsepy import get_history\n",
    "import numpy as np\n",
    "import matplotlib.pyplot as plt\n",
    "plt.style.use(\"seaborn\")"
   ]
  },
  {
   "cell_type": "code",
   "execution_count": null,
   "id": "88133881",
   "metadata": {
    "scrolled": true
   },
   "outputs": [],
   "source": [
    "# stocks = pd.read_parquet('/Users/entirety/Documents/Entirety-AMC/Data/NIFTY_50.parquet')\n",
    "\n",
    "stocks=get_history(symbol=\"NIFTY\",\n",
    "                            start=date(2022,1,1),\n",
    "                            end=date(2022,9,1),\n",
    "                            index=True)\n",
    "\n",
    "stocks"
   ]
  },
  {
   "cell_type": "code",
   "execution_count": null,
   "id": "ca948826",
   "metadata": {},
   "outputs": [],
   "source": []
  },
  {
   "cell_type": "code",
   "execution_count": null,
   "id": "ead9fb5e",
   "metadata": {
    "scrolled": true
   },
   "outputs": [],
   "source": [
    "df=stocks[[\"Close\"]]\n",
    "df"
   ]
  },
  {
   "cell_type": "code",
   "execution_count": null,
   "id": "afec3608",
   "metadata": {},
   "outputs": [],
   "source": [
    "\n",
    "df.plot(figsize=(12,8),title=\"Closing Price\",fontsize=12)\n",
    "plt.show()"
   ]
  },
  {
   "cell_type": "code",
   "execution_count": null,
   "id": "f3e97190",
   "metadata": {
    "scrolled": true
   },
   "outputs": [],
   "source": [
    "period_high=20\n",
    "df[\"highest\"]=(df[\"Close\"].rolling(window=period_high).max()).shift()"
   ]
  },
  {
   "cell_type": "code",
   "execution_count": null,
   "id": "c86f32c7",
   "metadata": {},
   "outputs": [],
   "source": [
    "# df.loc.plot(figsize=(12,8),fontsize=12)\n",
    "# plt.show()"
   ]
  },
  {
   "cell_type": "code",
   "execution_count": null,
   "id": "d1922e4e",
   "metadata": {},
   "outputs": [],
   "source": [
    "df.head\n"
   ]
  },
  {
   "cell_type": "code",
   "execution_count": null,
   "id": "35165dba",
   "metadata": {},
   "outputs": [],
   "source": [
    "df[\"Buy\"]=np.where(df[\"Close\"].shift()>df[\"highest\"].shift(),1,0)\n"
   ]
  },
  {
   "cell_type": "code",
   "execution_count": null,
   "id": "3a1d1ed2",
   "metadata": {},
   "outputs": [],
   "source": [
    "period_low=40\n",
    "df[\"lowest\"]=(df[\"Close\"].rolling(window=period_low).min()).shift()\n",
    "\n",
    "\n",
    "df[\"Sell\"]=np.where(df[\"Close\"].shift()<df[\"lowest\"].shift(),1,0)\n",
    "\n",
    "\n",
    "df\n"
   ]
  },
  {
   "cell_type": "code",
   "execution_count": null,
   "id": "653d597a",
   "metadata": {},
   "outputs": [],
   "source": [
    "df_trades=df[(df.Buy==1) | (df.Sell==1)]\n",
    "df_trades"
   ]
  },
  {
   "cell_type": "code",
   "execution_count": null,
   "id": "6a45ad3b",
   "metadata": {},
   "outputs": [],
   "source": [
    "\n",
    "trade=df_trades[(df_trades.Buy.diff()==1)|(df_trades.Sell.diff()==1)]\n",
    "trade"
   ]
  },
  {
   "cell_type": "code",
   "execution_count": null,
   "id": "1a093d53",
   "metadata": {},
   "outputs": [],
   "source": [
    "df"
   ]
  },
  {
   "cell_type": "code",
   "execution_count": null,
   "id": "fdddd072",
   "metadata": {},
   "outputs": [],
   "source": [
    "\n",
    "Buy_dates=[]\n",
    "Sell_dates=[]\n",
    "buys=[]\n",
    "sells=[]\n",
    "open_pos=False\n",
    "\n",
    "\n",
    "# In[21]:\n",
    "\n",
    "\n",
    "for i in range(len(df)):\n",
    "    if df.Buy.iloc[i]:\n",
    "        if open_pos==False:\n",
    "            buys.append(i)\n",
    "            open_pos=True\n",
    "            Buy_dates.append(df.iloc[i].name)\n",
    "    elif df.Sell.iloc[i]:\n",
    "        if open_pos:\n",
    "            sells.append(i)\n",
    "            open_pos=False\n",
    "            Sell_dates.append(df.iloc[i].name)\n",
    "            \n",
    "\n",
    "\n",
    "# In[22]:\n",
    "\n",
    "\n"
   ]
  },
  {
   "cell_type": "code",
   "execution_count": null,
   "id": "608fe2cf",
   "metadata": {},
   "outputs": [],
   "source": [
    "\n",
    "print(len(buys))\n",
    "print(len(sells))"
   ]
  },
  {
   "cell_type": "code",
   "execution_count": null,
   "id": "755f2c48",
   "metadata": {},
   "outputs": [],
   "source": [
    "\n",
    "if len(buys)>len(sells):\n",
    "    buys.pop(-1)\n",
    "    Buy_dates.pop(-1)\n",
    "\n",
    "print(len(buys))\n",
    "print(len(sells))\n",
    "\n"
   ]
  },
  {
   "cell_type": "code",
   "execution_count": null,
   "id": "560dec63",
   "metadata": {},
   "outputs": [],
   "source": [
    "check=pd.DataFrame({'buydate':Buy_dates,'selldate':Sell_dates,'buyprice':df.loc[Buy_dates].Close.values,'sellprice':df.loc[Sell_dates].Close.values})\n",
    "check\n"
   ]
  },
  {
   "cell_type": "code",
   "execution_count": null,
   "id": "7ce148a6",
   "metadata": {},
   "outputs": [],
   "source": [
    "\n",
    "check[\"pnl_perc\"]=(check.sellprice-check.buyprice)/check.buyprice\n",
    "check\n",
    "\n"
   ]
  },
  {
   "cell_type": "code",
   "execution_count": null,
   "id": "2c64415b",
   "metadata": {},
   "outputs": [],
   "source": [
    "\n",
    "check[\"cumm+pnl_perc\"]=(check[\"pnl_perc\"]+1).cumprod()\n",
    "check\n"
   ]
  },
  {
   "cell_type": "code",
   "execution_count": null,
   "id": "c0664b99",
   "metadata": {},
   "outputs": [],
   "source": [
    "\n",
    "totaltrades=len(check.pnl_perc)\n",
    "totaltrades\n"
   ]
  },
  {
   "cell_type": "code",
   "execution_count": null,
   "id": "afec535e",
   "metadata": {},
   "outputs": [],
   "source": [
    "\n",
    "profits=df.loc[check.selldate].Close.values-df.loc[check.buydate].Close.values\n",
    "profits\n"
   ]
  },
  {
   "cell_type": "code",
   "execution_count": null,
   "id": "f73f19f0",
   "metadata": {},
   "outputs": [],
   "source": [
    "\n",
    "\n",
    "i=0\n",
    "profit_trades=len([i for i in profits if i>0])\n",
    "profit_trades_perc=(profit_trades/totaltrades)*100\n",
    "\n",
    "print(\"No of profit trades = {}\".format(profit_trades))\n",
    "print(\"Win ratio = {}\".format(profit_trades_perc))"
   ]
  },
  {
   "cell_type": "code",
   "execution_count": null,
   "id": "546103bf",
   "metadata": {},
   "outputs": [],
   "source": [
    "\n",
    "profits_perc=(df.loc[check.selldate].Close.values-df.loc[check.buydate].Close.values)/df.loc[check.buydate].Close.values\n",
    "\n",
    "avg_profit=profits_perc.mean()*100\n",
    "avg_profit\n"
   ]
  },
  {
   "cell_type": "code",
   "execution_count": null,
   "id": "02c11db8",
   "metadata": {},
   "outputs": [],
   "source": [
    "\n",
    "list_profits=(profits_perc+1).cumprod()\n",
    "list_profits\n"
   ]
  },
  {
   "cell_type": "code",
   "execution_count": null,
   "id": "35945cb5",
   "metadata": {},
   "outputs": [],
   "source": [
    "\n",
    "net_returns_perc=(list_profits[-1]-1)*100\n",
    "net_returns_perc\n"
   ]
  },
  {
   "cell_type": "code",
   "execution_count": null,
   "id": "8367ec2b",
   "metadata": {},
   "outputs": [],
   "source": [
    "\n",
    "profits_perc.min()"
   ]
  },
  {
   "cell_type": "code",
   "execution_count": null,
   "id": "44e85964",
   "metadata": {},
   "outputs": [],
   "source": [
    "\n",
    "profits_perc.max()"
   ]
  },
  {
   "cell_type": "code",
   "execution_count": null,
   "id": "30f1a1a3",
   "metadata": {},
   "outputs": [],
   "source": [
    "\n",
    "init_inv=1000\n",
    "inv_ret=init_inv*(profits_perc+1).cumprod()\n",
    "inv_ret[-1]\n"
   ]
  },
  {
   "cell_type": "code",
   "execution_count": null,
   "id": "597c038a",
   "metadata": {},
   "outputs": [],
   "source": [
    "\n",
    "def test_strategy(stock, buy_days, sell_days,invest):\n",
    "    data=yf.download(stock)\n",
    "    df=data.Close.to_frame()\n",
    "    df[\"highest\"]=(df[\"Close\"].rolling(window=buy_days).max()).shift()\n",
    "    df[\"Buy\"]=np.where(df[\"Close\"].shift()>df[\"highest\"].shift(),1,0)\n",
    "    df[\"lowest\"]=(df[\"Close\"].rolling(window=sell_days).min()).shift()\n",
    "    df[\"Sell\"]=np.where(df[\"Close\"].shift()<df[\"lowest\"].shift(),1,0)\n",
    "    \n",
    "    Buy_dates=[]\n",
    "    Sell_dates=[]\n",
    "    buys=[]\n",
    "    sells=[]\n",
    "    open_pos=False\n",
    "    \n",
    "    for i in range(len(df)):\n",
    "        if df.Buy.iloc[i]:\n",
    "            if open_pos==False:\n",
    "                buys.append(i)\n",
    "                open_pos=True\n",
    "                Buy_dates.append(df.iloc[i].name)\n",
    "        elif df.Sell.iloc[i]:\n",
    "            if open_pos:\n",
    "                sells.append(i)\n",
    "                open_pos=False\n",
    "                Sell_dates.append(df.iloc[i].name)\n",
    "    \n",
    "    if len(buys)>len(sells):\n",
    "        buys.pop(-1)\n",
    "        Buy_dates.pop(-1)\n",
    "        \n",
    "    check=pd.DataFrame({'buydate':Buy_dates,'selldate':Sell_dates,'buyprice':df.loc[Buy_dates].Close.values,'sellprice':df.loc[Sell_dates].Close.values})\n",
    "    check[\"pnl_perc\"]=(check.sellprice-check.buyprice)/check.buyprice\n",
    "    check[\"cumm+pnl_perc\"]=(check[\"pnl_perc\"]+1).cumprod()\n",
    "\n",
    "    profits_perc=(df.loc[check.selldate].Close.values-df.loc[check.buydate].Close.values)/df.loc[check.buydate].Close.values\n",
    "    list_profits=(profits_perc+1).cumprod()\n",
    "    net_returns_perc=(list_profits[-1]-1).round(3)*100\n",
    "\n",
    "    inv_ret=init_inv*(profits_perc+1).cumprod()\n",
    "    return_inv=inv_ret[-1]\n",
    "\n",
    "    large_loss=profits_perc.min().round(3)*100\n",
    "    large_profit=profits_perc.max().round(3)*100   \n",
    "\n",
    "\n",
    "    return print(\"Returns perc= {}%\".format(net_returns_perc)), print(\"Invested return= {}\".format(return_inv)), print(\"Largest Loss= {}%\".format(large_loss)), print(\"Largest Profit= {}%\".format(large_profit))"
   ]
  },
  {
   "cell_type": "code",
   "execution_count": null,
   "id": "b5e35910",
   "metadata": {},
   "outputs": [],
   "source": [
    "test_strategy(\"KO\", 40, 40,1000)"
   ]
  },
  {
   "cell_type": "code",
   "execution_count": null,
   "id": "706b56f3",
   "metadata": {},
   "outputs": [],
   "source": []
  }
 ],
 "metadata": {
  "kernelspec": {
   "display_name": "Python 3",
   "language": "python",
   "name": "python3"
  },
  "language_info": {
   "codemirror_mode": {
    "name": "ipython",
    "version": 3
   },
   "file_extension": ".py",
   "mimetype": "text/x-python",
   "name": "python",
   "nbconvert_exporter": "python",
   "pygments_lexer": "ipython3",
   "version": "3.8.8"
  }
 },
 "nbformat": 4,
 "nbformat_minor": 5
}
